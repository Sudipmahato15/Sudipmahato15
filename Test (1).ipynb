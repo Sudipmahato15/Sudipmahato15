{
 "cells": [
  {
   "cell_type": "code",
   "execution_count": 1,
   "id": "202dea48-63f2-4efa-b373-d040bb711895",
   "metadata": {},
   "outputs": [
    {
     "data": {
      "text/plain": [
       "2"
      ]
     },
     "execution_count": 1,
     "metadata": {},
     "output_type": "execute_result"
    }
   ],
   "source": [
    "1+1"
   ]
  },
  {
   "cell_type": "code",
   "execution_count": 2,
   "id": "e7989541-d4f5-46e8-94e1-a3c52e6c9752",
   "metadata": {},
   "outputs": [
    {
     "data": {
      "text/plain": [
       "15"
      ]
     },
     "execution_count": 2,
     "metadata": {},
     "output_type": "execute_result"
    }
   ],
   "source": [
    "8+7"
   ]
  },
  {
   "cell_type": "code",
   "execution_count": 3,
   "id": "ff4df858-cb55-4c6a-987d-4029f1cbe5ea",
   "metadata": {},
   "outputs": [
    {
     "data": {
      "text/plain": [
       "0.5"
      ]
     },
     "execution_count": 3,
     "metadata": {},
     "output_type": "execute_result"
    }
   ],
   "source": [
    "0+0.5"
   ]
  },
  {
   "cell_type": "code",
   "execution_count": 4,
   "id": "7b367958-c548-4e48-8302-3800e2b98ba5",
   "metadata": {},
   "outputs": [
    {
     "data": {
      "text/plain": [
       "899012120"
      ]
     },
     "execution_count": 4,
     "metadata": {},
     "output_type": "execute_result"
    }
   ],
   "source": [
    "22222+898989898"
   ]
  },
  {
   "cell_type": "code",
   "execution_count": 5,
   "id": "850bccf1-f51c-41ff-84df-f08094572404",
   "metadata": {},
   "outputs": [],
   "source": [
    "a=10"
   ]
  },
  {
   "cell_type": "code",
   "execution_count": 6,
   "id": "c98b0cc0-7950-4be7-bea7-9302ca1ef5b7",
   "metadata": {},
   "outputs": [
    {
     "data": {
      "text/plain": [
       "2"
      ]
     },
     "execution_count": 6,
     "metadata": {},
     "output_type": "execute_result"
    }
   ],
   "source": [
    "a-8"
   ]
  },
  {
   "cell_type": "code",
   "execution_count": 7,
   "id": "13b38722-7f2c-4600-91bc-917e73ba38d9",
   "metadata": {},
   "outputs": [],
   "source": [
    "sudip=10000"
   ]
  },
  {
   "cell_type": "code",
   "execution_count": 8,
   "id": "c4271426-8aca-45d7-b9fa-9550a2e28c47",
   "metadata": {},
   "outputs": [
    {
     "data": {
      "text/plain": [
       "int"
      ]
     },
     "execution_count": 8,
     "metadata": {},
     "output_type": "execute_result"
    }
   ],
   "source": [
    "type(sudip)"
   ]
  },
  {
   "cell_type": "code",
   "execution_count": 9,
   "id": "7934990b-2405-4aec-bc77-d8d88f1e396b",
   "metadata": {},
   "outputs": [],
   "source": [
    "kumar=3777"
   ]
  },
  {
   "cell_type": "code",
   "execution_count": 10,
   "id": "3b5cfca5-84b3-42c4-84c1-0f20c69a9494",
   "metadata": {},
   "outputs": [
    {
     "data": {
      "text/plain": [
       "13777"
      ]
     },
     "execution_count": 10,
     "metadata": {},
     "output_type": "execute_result"
    }
   ],
   "source": [
    "sudip+kumar"
   ]
  },
  {
   "cell_type": "code",
   "execution_count": 11,
   "id": "4c064b3a-611b-4c0e-9da7-01b52bbfea03",
   "metadata": {},
   "outputs": [
    {
     "data": {
      "text/plain": [
       "int"
      ]
     },
     "execution_count": 11,
     "metadata": {},
     "output_type": "execute_result"
    }
   ],
   "source": [
    "type(3777)"
   ]
  },
  {
   "cell_type": "code",
   "execution_count": 12,
   "id": "fb75cee1-86da-41c2-b225-7c44aa0f58ec",
   "metadata": {},
   "outputs": [],
   "source": [
    "mahato=\"test\""
   ]
  },
  {
   "cell_type": "code",
   "execution_count": 13,
   "id": "19c77dea-2359-4cb8-a5fa-c7f20efac8b5",
   "metadata": {},
   "outputs": [
    {
     "data": {
      "text/plain": [
       "str"
      ]
     },
     "execution_count": 13,
     "metadata": {},
     "output_type": "execute_result"
    }
   ],
   "source": [
    "type(mahato)"
   ]
  },
  {
   "cell_type": "code",
   "execution_count": 14,
   "id": "2f6a7c4e-c69a-436b-bc6e-9ac483936f2b",
   "metadata": {},
   "outputs": [],
   "source": [
    "d=True"
   ]
  },
  {
   "cell_type": "code",
   "execution_count": 15,
   "id": "c0581e4a-1793-4fdd-8c59-2d638e555d60",
   "metadata": {},
   "outputs": [
    {
     "data": {
      "text/plain": [
       "True"
      ]
     },
     "execution_count": 15,
     "metadata": {},
     "output_type": "execute_result"
    }
   ],
   "source": [
    "d"
   ]
  },
  {
   "cell_type": "code",
   "execution_count": 16,
   "id": "15ff7331-63a4-44df-98a1-6ce3b40006cf",
   "metadata": {},
   "outputs": [
    {
     "data": {
      "text/plain": [
       "bool"
      ]
     },
     "execution_count": 16,
     "metadata": {},
     "output_type": "execute_result"
    }
   ],
   "source": [
    "type(d)"
   ]
  },
  {
   "cell_type": "code",
   "execution_count": 17,
   "id": "6b51c143-2397-4b91-92ac-e9623d81f822",
   "metadata": {},
   "outputs": [],
   "source": [
    "e=False"
   ]
  },
  {
   "cell_type": "code",
   "execution_count": 18,
   "id": "2bf0ac15-ad47-4531-afcb-29682355935c",
   "metadata": {},
   "outputs": [
    {
     "data": {
      "text/plain": [
       "1"
      ]
     },
     "execution_count": 18,
     "metadata": {},
     "output_type": "execute_result"
    }
   ],
   "source": [
    "d-e"
   ]
  },
  {
   "cell_type": "code",
   "execution_count": 19,
   "id": "f6d77e3b-c22e-44a7-a7f8-68621c5c10b8",
   "metadata": {},
   "outputs": [
    {
     "data": {
      "text/plain": [
       "-1"
      ]
     },
     "execution_count": 19,
     "metadata": {},
     "output_type": "execute_result"
    }
   ],
   "source": [
    "e-d"
   ]
  },
  {
   "cell_type": "code",
   "execution_count": 20,
   "id": "8f28426c-7e4d-43d5-ab17-12be8530c749",
   "metadata": {},
   "outputs": [
    {
     "ename": "ZeroDivisionError",
     "evalue": "division by zero",
     "output_type": "error",
     "traceback": [
      "\u001b[0;31m---------------------------------------------------------------------------\u001b[0m",
      "\u001b[0;31mZeroDivisionError\u001b[0m                         Traceback (most recent call last)",
      "\u001b[0;32m/var/folders/5t/0ll7h7gs77b9lwn1y478wcyc0000gn/T/ipykernel_55494/2794436645.py\u001b[0m in \u001b[0;36m<module>\u001b[0;34m\u001b[0m\n\u001b[0;32m----> 1\u001b[0;31m \u001b[0;32mTrue\u001b[0m\u001b[0;34m/\u001b[0m\u001b[0;32mFalse\u001b[0m\u001b[0;34m\u001b[0m\u001b[0;34m\u001b[0m\u001b[0m\n\u001b[0m",
      "\u001b[0;31mZeroDivisionError\u001b[0m: division by zero"
     ]
    }
   ],
   "source": [
    "True/False"
   ]
  },
  {
   "cell_type": "code",
   "execution_count": 21,
   "id": "7cb24723-f226-4047-8876-e80169679635",
   "metadata": {},
   "outputs": [
    {
     "ename": "NameError",
     "evalue": "name 'true' is not defined",
     "output_type": "error",
     "traceback": [
      "\u001b[0;31m---------------------------------------------------------------------------\u001b[0m",
      "\u001b[0;31mNameError\u001b[0m                                 Traceback (most recent call last)",
      "\u001b[0;32m/var/folders/5t/0ll7h7gs77b9lwn1y478wcyc0000gn/T/ipykernel_55494/158405975.py\u001b[0m in \u001b[0;36m<module>\u001b[0;34m\u001b[0m\n\u001b[0;32m----> 1\u001b[0;31m \u001b[0mtrue\u001b[0m\u001b[0;34m/\u001b[0m\u001b[0mfalse\u001b[0m\u001b[0;34m\u001b[0m\u001b[0;34m\u001b[0m\u001b[0m\n\u001b[0m",
      "\u001b[0;31mNameError\u001b[0m: name 'true' is not defined"
     ]
    }
   ],
   "source": [
    "true/false"
   ]
  },
  {
   "cell_type": "code",
   "execution_count": 22,
   "id": "c9be6ef1-cc38-49cd-a2e1-62db69006975",
   "metadata": {},
   "outputs": [],
   "source": [
    "n=5+7j"
   ]
  },
  {
   "cell_type": "code",
   "execution_count": 23,
   "id": "b07073ce-26b1-4428-9d71-76285544ac72",
   "metadata": {},
   "outputs": [
    {
     "data": {
      "text/plain": [
       "complex"
      ]
     },
     "execution_count": 23,
     "metadata": {},
     "output_type": "execute_result"
    }
   ],
   "source": [
    "type(n)"
   ]
  },
  {
   "cell_type": "code",
   "execution_count": 24,
   "id": "3a9f8a17-f552-4d43-a5cf-130ebada4073",
   "metadata": {},
   "outputs": [
    {
     "data": {
      "text/plain": [
       "(10+14j)"
      ]
     },
     "execution_count": 24,
     "metadata": {},
     "output_type": "execute_result"
    }
   ],
   "source": [
    "n+n"
   ]
  },
  {
   "cell_type": "code",
   "execution_count": 25,
   "id": "86598f13-6bf5-490c-8f4e-3d62a162053e",
   "metadata": {},
   "outputs": [
    {
     "data": {
      "text/plain": [
       "0.0"
      ]
     },
     "execution_count": 25,
     "metadata": {},
     "output_type": "execute_result"
    }
   ],
   "source": [
    "0/1"
   ]
  },
  {
   "cell_type": "code",
   "execution_count": 26,
   "id": "5a808cf3-4d63-4446-8431-af49ebfded18",
   "metadata": {},
   "outputs": [
    {
     "data": {
      "text/plain": [
       "(5+7j)"
      ]
     },
     "execution_count": 26,
     "metadata": {},
     "output_type": "execute_result"
    }
   ],
   "source": [
    "n"
   ]
  },
  {
   "cell_type": "code",
   "execution_count": 27,
   "id": "ffc2fc54-454c-41d6-b6b6-0a15eaa38d92",
   "metadata": {},
   "outputs": [
    {
     "data": {
      "text/plain": [
       "complex"
      ]
     },
     "execution_count": 27,
     "metadata": {},
     "output_type": "execute_result"
    }
   ],
   "source": [
    "type(n)"
   ]
  },
  {
   "cell_type": "code",
   "execution_count": 56,
   "id": "b8342d34-8894-4ebf-9b26-08bcd2fffe67",
   "metadata": {},
   "outputs": [],
   "source": [
    "l = [1,2,3,4,\"sudip\", True , 5+3j]"
   ]
  },
  {
   "cell_type": "code",
   "execution_count": 57,
   "id": "35b926b3-c8bd-49ce-b46e-3be20a68828f",
   "metadata": {},
   "outputs": [
    {
     "data": {
      "text/plain": [
       "list"
      ]
     },
     "execution_count": 57,
     "metadata": {},
     "output_type": "execute_result"
    }
   ],
   "source": [
    "type (l)"
   ]
  },
  {
   "cell_type": "code",
   "execution_count": 58,
   "id": "6a1c182d-f328-48f8-b7be-4cdb5e564c4d",
   "metadata": {},
   "outputs": [
    {
     "data": {
      "text/plain": [
       "3"
      ]
     },
     "execution_count": 58,
     "metadata": {},
     "output_type": "execute_result"
    }
   ],
   "source": [
    "l[2]"
   ]
  },
  {
   "cell_type": "code",
   "execution_count": 59,
   "id": "159380a4-5c47-421b-a873-979fbcb6b224",
   "metadata": {},
   "outputs": [
    {
     "data": {
      "text/plain": [
       "3"
      ]
     },
     "execution_count": 59,
     "metadata": {},
     "output_type": "execute_result"
    }
   ],
   "source": [
    "l[2]"
   ]
  },
  {
   "cell_type": "code",
   "execution_count": null,
   "id": "997c2993-5366-4b1d-a62d-00db5b0b3362",
   "metadata": {},
   "outputs": [],
   "source": []
  },
  {
   "cell_type": "code",
   "execution_count": null,
   "id": "8c58b344-d7f3-46ad-9ce6-f60567329dc9",
   "metadata": {},
   "outputs": [],
   "source": []
  }
 ],
 "metadata": {
  "kernelspec": {
   "display_name": "Python 3 (ipykernel)",
   "language": "python",
   "name": "python3"
  },
  "language_info": {
   "codemirror_mode": {
    "name": "ipython",
    "version": 3
   },
   "file_extension": ".py",
   "mimetype": "text/x-python",
   "name": "python",
   "nbconvert_exporter": "python",
   "pygments_lexer": "ipython3",
   "version": "3.9.7"
  }
 },
 "nbformat": 4,
 "nbformat_minor": 5
}
